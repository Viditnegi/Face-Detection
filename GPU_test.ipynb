{
 "cells": [
  {
   "cell_type": "code",
   "execution_count": 1,
   "id": "794ae094-984f-4a9b-998e-ad0a865043db",
   "metadata": {
    "tags": []
   },
   "outputs": [],
   "source": [
    "import tensorflow as tf\n",
    "import numpy as np\n",
    "import os\n",
    "import time"
   ]
  },
  {
   "cell_type": "code",
   "execution_count": 2,
   "id": "118c3b40-46db-4d77-9927-b55965879046",
   "metadata": {
    "tags": []
   },
   "outputs": [
    {
     "data": {
      "text/plain": [
       "'2.10.0'"
      ]
     },
     "execution_count": 2,
     "metadata": {},
     "output_type": "execute_result"
    }
   ],
   "source": [
    "tf.__version__"
   ]
  },
  {
   "cell_type": "code",
   "execution_count": 3,
   "id": "0534d438-c48d-4cb3-8787-b37f8ac6fdcd",
   "metadata": {
    "tags": []
   },
   "outputs": [
    {
     "name": "stdout",
     "output_type": "stream",
     "text": [
      "Python 3.10.13\n"
     ]
    }
   ],
   "source": [
    "!python --version"
   ]
  },
  {
   "cell_type": "code",
   "execution_count": 4,
   "id": "0615271e-7309-45ab-9e75-318309b4d2cc",
   "metadata": {
    "tags": []
   },
   "outputs": [
    {
     "name": "stdout",
     "output_type": "stream",
     "text": [
      "[PhysicalDevice(name='/physical_device:GPU:0', device_type='GPU')]\n",
      "/device:GPU:0\n"
     ]
    }
   ],
   "source": [
    "print(tf.config.list_physical_devices('GPU'))\n",
    "print(tf.test.gpu_device_name())"
   ]
  },
  {
   "cell_type": "code",
   "execution_count": 5,
   "id": "f3ad8824-8199-4913-88c9-60fbdbc48d7f",
   "metadata": {
    "tags": []
   },
   "outputs": [
    {
     "name": "stdout",
     "output_type": "stream",
     "text": [
      "1 Physical GPUs, 1 Logical GPU\n"
     ]
    }
   ],
   "source": [
    "gpus = tf.config.list_physical_devices('GPU')\n",
    "if gpus:\n",
    "    try:\n",
    "        tf.config.set_visible_devices(gpus[0], 'GPU')\n",
    "        logical_gpus = tf.config.list_logical_devices('GPU')\n",
    "        print(len(gpus), \"Physical GPUs,\", len(logical_gpus), \"Logical GPU\")\n",
    "    except RuntimeError as e:\n",
    "        print(e)"
   ]
  },
  {
   "cell_type": "code",
   "execution_count": 11,
   "id": "9c991dac-d0fb-436c-9957-3c4e7351acff",
   "metadata": {
    "tags": []
   },
   "outputs": [
    {
     "name": "stdout",
     "output_type": "stream",
     "text": [
      "Matrix sizes: [6000, 7000, 8000]\n",
      "Matrix sizes: [6000, 7000, 8000]\n",
      "GPU times: ['0.00038', '0.00023', '0.00023']\n",
      "CPU times: ['0.66246', '1.10976', '1.84327']\n"
     ]
    }
   ],
   "source": [
    "def matrix_multiplication(device_name, matrix_sizes):\n",
    "    time_values = []\n",
    "    for size in matrix_sizes:\n",
    "        with tf.device(device_name):\n",
    "            random_matrix = tf.random.uniform(shape=(size, size))\n",
    "            start_time = time.perf_counter()\n",
    "            result = tf.linalg.matmul(random_matrix, tf.transpose(random_matrix))\n",
    "            elapsed_time = time.perf_counter() - start_time\n",
    "        time_values.append(elapsed_time)\n",
    "    return time_values\n",
    "\n",
    "matrix_sizes = range(6000,9000, 1000)\n",
    "\n",
    "gpu_times = matrix_multiplication(\"/gpu:0\", matrix_sizes)\n",
    "cpu_times = matrix_multiplication(\"/cpu:0\", matrix_sizes)\n",
    "\n",
    "\n",
    "print(f\"Matrix sizes: {[size for size in matrix_sizes]}\")\n",
    "print(f\"Matrix sizes: {[size for size in matrix_sizes]}\")\n",
    "print(f\"GPU times: {['{:.5f}'.format(time) for time in gpu_times]}\")\n",
    "print(f\"CPU times: {['{:.5f}'.format(time) for time in cpu_times]}\")\n"
   ]
  },
  {
   "cell_type": "code",
   "execution_count": null,
   "id": "35f5005f-e17c-4c18-9af7-3ec917748d4d",
   "metadata": {},
   "outputs": [],
   "source": []
  },
  {
   "cell_type": "code",
   "execution_count": null,
   "id": "ef6c47fe-9d1c-41a4-9f09-9d466c4a2c03",
   "metadata": {},
   "outputs": [],
   "source": []
  }
 ],
 "metadata": {
  "kernelspec": {
   "display_name": "face_detection_kernel",
   "language": "python",
   "name": "face_detection_kernel"
  },
  "language_info": {
   "codemirror_mode": {
    "name": "ipython",
    "version": 3
   },
   "file_extension": ".py",
   "mimetype": "text/x-python",
   "name": "python",
   "nbconvert_exporter": "python",
   "pygments_lexer": "ipython3",
   "version": "3.10.13"
  }
 },
 "nbformat": 4,
 "nbformat_minor": 5
}
